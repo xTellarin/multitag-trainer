{
 "cells": [
  {
   "cell_type": "code",
   "execution_count": null,
   "id": "initial_id",
   "metadata": {
    "collapsed": true
   },
   "outputs": [],
   "source": [
    "import pickle\n",
    "from PIL import Image\n",
    "import os\n",
    "from dotenv import load_dotenv\n",
    "import torch\n",
    "import torch.nn as nn\n",
    "from torchvision import transforms, models"
   ]
  },
  {
   "cell_type": "code",
   "execution_count": null,
   "outputs": [],
   "source": [
    "load_dotenv()\n",
    "model_path = os.getenv(\"MODEL\")\n",
    "image_dir = os.getenv(\"INFERENCE_DIR\")\n",
    "tags = os.getenv(\"TAGS\")\n",
    "whitelist_file = 'whitelist.txt'\n",
    "print('Loading model from: ' + model_path+' and tags from: '+tags)\n",
    "if os.path.exists(model_path) and os.path.exists(tags):\n",
    "    print('Model and tags found. Proceeding...')\n",
    "elif os.path.exists(model_path) and not os.path.exists(tags):\n",
    "    print('Tags not found.')\n",
    "    exit()\n",
    "elif not os.path.exists(model_path) and os.path.exists(tags):\n",
    "    print('Model not found.')\n",
    "    exit()\n",
    "else:\n",
    "    print('Neither model nor tags found. Check your directory path!')\n",
    "    exit()\n",
    "if os.path.exists(whitelist_file):\n",
    "    print('Whitelist found. Only selected tags will be used.')\n",
    "else:\n",
    "    print('Whitelist not found. All tags will be used.')\n",
    "print('Tagging images from: ' + image_dir)"
   ],
   "metadata": {
    "collapsed": false
   },
   "id": "b3ed9514c812abb7"
  },
  {
   "cell_type": "code",
   "execution_count": null,
   "outputs": [],
   "source": [
    "# Load pickle file for tags_set\n",
    "with open(tags, 'rb') as f:\n",
    "    tags_set = pickle.load(f)\n",
    "\n",
    "device = torch.device(\"cuda\" if torch.cuda.is_available() else \"cpu\")\n",
    "model = models.resnet101(pretrained=False)  # use the same model structure\n",
    "num_ftrs = model.fc.in_features\n",
    "num_classes = len(tags_set)\n",
    "model.fc = nn.Linear(num_ftrs, num_classes)  # replace the last FC layer\n",
    "\n",
    "# Load the trained model. A CUDA model won't load on CPU without the `map_location` parameter.\n",
    "if torch.cuda.is_available():\n",
    "    model.load_state_dict(torch.load(model_path))\n",
    "else:\n",
    "    model.load_state_dict(torch.load(model_path, map_location=torch.device('cpu')))\n",
    "\n",
    "model = model.to(device)\n",
    "model.eval()  # set model to evaluation mode\n",
    "\n",
    "\n",
    "print('Reading from: ' + image_dir)\n",
    "# Get image files in directory\n",
    "image_files = [f for f in os.listdir(image_dir) if f.endswith('.jpg') or f.endswith('.png') or f.endswith('.jpeg') or f.endswith('.JPG')]\n",
    "\n",
    "# Define the same transforms used during training\n",
    "transform = transforms.Compose([\n",
    "    transforms.Resize((224, 224)),\n",
    "    transforms.ToTensor(),\n",
    "    transforms.Normalize(mean=[0.485, 0.456, 0.406], std=[0.229, 0.224, 0.225])  # ImageNet normalization\n",
    "])\n",
    "\n",
    "# Load tag whitelist\n",
    "with open(whitelist_file, 'r') as f:\n",
    "    whitelist = set(line.strip() for line in f)\n",
    "    print(whitelist)\n",
    "\n",
    "# Iterate over every image file\n",
    "for image_file in image_files:\n",
    "    # Load the image\n",
    "    image_path = os.path.join(image_dir, image_file)\n",
    "    print('Processing: ', image_path)\n",
    "    input_image = Image.open(image_path).convert(\"RGB\")\n",
    "\n",
    "    # Transform the image\n",
    "    input_image = transform(input_image).unsqueeze(0)\n",
    "\n",
    "    # Move input to device and perform inference\n",
    "    with torch.no_grad():\n",
    "        input_image = input_image.to(device)\n",
    "        outputs = model(input_image)\n",
    "        \n",
    "        # Convert the logits to probabilities\n",
    "        sigmoids = torch.nn.Sigmoid()\n",
    "        probabilities = sigmoids(outputs) * 100\n",
    "        \n",
    "       # for class_name, percentage in zip(tags_set, probabilities[0]):\n",
    "       #     print('{}: {:.2f}%'.format(class_name, percentage.item()))\n",
    "\n",
    "    #print(probabilities)\n",
    "\n",
    "    # Apply sigmoid function and threshold at 0.5\n",
    "    threshold = 0.5\n",
    "    sigmoid = torch.nn.Sigmoid()\n",
    "    predictions = sigmoid(outputs)\n",
    "    predicted_classes = (predictions > threshold).squeeze()\n",
    "\n",
    "    # Map binary predictions to class names\n",
    "    if os.path.exists(whitelist_file):\n",
    "        predicted_tags = [class_name for class_name, predicted_class in zip(tags_set, predicted_classes) if predicted_class == 1 and class_name in whitelist]\n",
    "        print(predicted_tags)\n",
    "        common_tags = set(predicted_tags) & whitelist\n",
    "        print(common_tags)\n",
    "    else:\n",
    "        predicted_tags = [class_name for class_name, predicted_class in zip(tags_set, predicted_classes) if predicted_class == 1]\n",
    "\n",
    "    # Save predictions into a text file named image_name.jpg.txt\n",
    "    image_name = os.path.splitext(image_file)[0]\n",
    "    file_name = f'{image_name}.txt'\n",
    "    file_path = os.path.join(image_dir, file_name)\n",
    "    with open(file_path, 'w') as f_out:\n",
    "        for tag in predicted_tags:\n",
    "            f_out.write(f'{tag}\\n')"
   ],
   "metadata": {
    "collapsed": false
   },
   "id": "c2006dc14593fb3d"
  },
  {
   "cell_type": "code",
   "execution_count": null,
   "outputs": [],
   "source": [
    "with open(tags, 'rb') as f:\n",
    "    tags_set = pickle.load(f)\n",
    "print(tags_set)"
   ],
   "metadata": {
    "collapsed": false
   },
   "id": "35fcb54ac6062b24"
  }
 ],
 "metadata": {
  "kernelspec": {
   "display_name": "Python 3",
   "language": "python",
   "name": "python3"
  },
  "language_info": {
   "codemirror_mode": {
    "name": "ipython",
    "version": 2
   },
   "file_extension": ".py",
   "mimetype": "text/x-python",
   "name": "python",
   "nbconvert_exporter": "python",
   "pygments_lexer": "ipython2",
   "version": "2.7.6"
  }
 },
 "nbformat": 4,
 "nbformat_minor": 5
}
